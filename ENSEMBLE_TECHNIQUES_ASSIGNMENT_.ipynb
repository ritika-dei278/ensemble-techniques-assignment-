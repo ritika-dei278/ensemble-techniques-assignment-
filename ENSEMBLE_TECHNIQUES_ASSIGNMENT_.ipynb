{
  "nbformat": 4,
  "nbformat_minor": 0,
  "metadata": {
    "colab": {
      "provenance": []
    },
    "kernelspec": {
      "name": "python3",
      "display_name": "Python 3"
    },
    "language_info": {
      "name": "python"
    }
  },
  "cells": [
    {
      "cell_type": "markdown",
      "source": [
        "#PRACTICAL QUESTIONS"
      ],
      "metadata": {
        "id": "iM9IrVNqdZRt"
      }
    },
    {
      "cell_type": "code",
      "execution_count": null,
      "metadata": {
        "colab": {
          "base_uri": "https://localhost:8080/"
        },
        "id": "ioMUJNV2dERp",
        "outputId": "1529f23c-35de-4070-e73c-54b782f9221d"
      },
      "outputs": [
        {
          "output_type": "stream",
          "name": "stdout",
          "text": [
            "Bagging Classifier Accuracy: 0.9473684210526315\n"
          ]
        }
      ],
      "source": [
        "# Q1: Train a Bagging Classifier using Decision Trees on a sample dataset and print model accuracy\n",
        "\n",
        "from sklearn.ensemble import BaggingClassifier\n",
        "from sklearn.tree import DecisionTreeClassifier\n",
        "from sklearn.datasets import load_breast_cancer\n",
        "from sklearn.model_selection import train_test_split\n",
        "\n",
        "X, y = load_breast_cancer(return_X_y=True)\n",
        "X_train, X_test, y_train, y_test = train_test_split(X, y, test_size=0.3, random_state=42)\n",
        "\n",
        "bag_clf = BaggingClassifier(estimator=DecisionTreeClassifier(), n_estimators=10, random_state=42)\n",
        "bag_clf.fit(X_train, y_train)\n",
        "print(\"Bagging Classifier Accuracy:\", bag_clf.score(X_test, y_test))\n"
      ]
    },
    {
      "cell_type": "code",
      "source": [
        "# Q2: Train a Bagging Regressor using Decision Trees and evaluate using Mean Squared Error (MSE)\n",
        "\n",
        "from sklearn.ensemble import BaggingRegressor\n",
        "from sklearn.tree import DecisionTreeRegressor\n",
        "from sklearn.datasets import load_diabetes\n",
        "from sklearn.metrics import mean_squared_error\n",
        "\n",
        "X, y = load_diabetes(return_X_y=True)\n",
        "X_train, X_test, y_train, y_test = train_test_split(X, y, test_size=0.3, random_state=42)\n",
        "\n",
        "bag_reg = BaggingRegressor(estimator=DecisionTreeRegressor(), n_estimators=10, random_state=42)\n",
        "bag_reg.fit(X_train, y_train)\n",
        "y_pred = bag_reg.predict(X_test)\n",
        "print(\"Bagging Regressor MSE:\", mean_squared_error(y_test, y_pred))"
      ],
      "metadata": {
        "colab": {
          "base_uri": "https://localhost:8080/"
        },
        "id": "h2eTuDAwdPdk",
        "outputId": "09413adf-9b9a-44fc-eca1-c656c5b65672"
      },
      "execution_count": null,
      "outputs": [
        {
          "output_type": "stream",
          "name": "stdout",
          "text": [
            "Bagging Regressor MSE: 3237.526541353384\n"
          ]
        }
      ]
    },
    {
      "cell_type": "code",
      "source": [
        "# Q3: Train a Random Forest Classifier on the Breast Cancer dataset and print feature importance scores\n",
        "\n",
        "from sklearn.ensemble import RandomForestClassifier\n",
        "import pandas as pd\n",
        "from sklearn.datasets import load_diabetes # Import load_diabetes to get feature names\n",
        "\n",
        "# Assuming rf was trained on the diabetes dataset in the previous cell\n",
        "# If you intended to train on breast cancer, you would need to re-train rf here\n",
        "# rf = RandomForestClassifier(random_state=42)\n",
        "# X_train_bc, X_test_bc, y_train_bc, y_test_bc = train_test_split(load_breast_cancer().data, load_breast_cancer().target, test_size=0.3, random_state=42)\n",
        "# rf.fit(X_train_bc, y_train_bc)\n",
        "\n",
        "\n",
        "importances = pd.Series(rf.feature_importances_, index=load_diabetes().feature_names) # Use diabetes feature names\n",
        "print(\"Feature Importances:\\n\", importances.sort_values(ascending=False))"
      ],
      "metadata": {
        "colab": {
          "base_uri": "https://localhost:8080/"
        },
        "id": "K6O3_pMrdPav",
        "outputId": "0aec95a8-9978-4a0d-dce1-e97eb8c0551a"
      },
      "execution_count": null,
      "outputs": [
        {
          "output_type": "stream",
          "name": "stdout",
          "text": [
            "Feature Importances:\n",
            " bmi    0.123538\n",
            "s5     0.121567\n",
            "bp     0.115831\n",
            "s2     0.114886\n",
            "s6     0.113717\n",
            "s1     0.112643\n",
            "s3     0.108779\n",
            "age    0.105341\n",
            "s4     0.056704\n",
            "sex    0.026995\n",
            "dtype: float64\n"
          ]
        }
      ]
    },
    {
      "cell_type": "code",
      "source": [
        "# Q4: Train a Random Forest Regressor and compare its performance with a single Decision Tree\n",
        "\n",
        "from sklearn.ensemble import RandomForestRegressor\n",
        "from sklearn.tree import DecisionTreeRegressor\n",
        "\n",
        "rf_reg = RandomForestRegressor(random_state=42)\n",
        "dt_reg = DecisionTreeRegressor(random_state=42)\n",
        "\n",
        "rf_reg.fit(X_train, y_train)\n",
        "dt_reg.fit(X_train, y_train)\n",
        "\n",
        "rf_mse = mean_squared_error(y_test, rf_reg.predict(X_test))\n",
        "dt_mse = mean_squared_error(y_test, dt_reg.predict(X_test))\n",
        "\n",
        "print(\"Random Forest MSE:\", rf_mse)\n",
        "print(\"Decision Tree MSE:\", dt_mse)\n"
      ],
      "metadata": {
        "colab": {
          "base_uri": "https://localhost:8080/"
        },
        "id": "QH5Jt-IUdPXg",
        "outputId": "90e2d656-6a2c-4277-8fa6-639c8a06a44b"
      },
      "execution_count": null,
      "outputs": [
        {
          "output_type": "stream",
          "name": "stdout",
          "text": [
            "Random Forest MSE: 2859.641982706767\n",
            "Decision Tree MSE: 5697.789473684211\n"
          ]
        }
      ]
    },
    {
      "cell_type": "code",
      "source": [
        "# Q5: Compute the Out-of-Bag (OOB) Score for a Random Forest Classifier\n",
        "\n",
        "rf_oob = RandomForestClassifier(oob_score=True, n_estimators=100, bootstrap=True, random_state=42)\n",
        "rf_oob.fit(X_train, y_train)\n",
        "print(\"OOB Score:\", rf_oob.oob_score_)\n"
      ],
      "metadata": {
        "colab": {
          "base_uri": "https://localhost:8080/"
        },
        "id": "uTImtEuUdPUm",
        "outputId": "ce330bdf-66e3-45d1-9e99-1755e1d2976e"
      },
      "execution_count": null,
      "outputs": [
        {
          "output_type": "stream",
          "name": "stdout",
          "text": [
            "OOB Score: 0.006472491909385114\n"
          ]
        }
      ]
    },
    {
      "cell_type": "code",
      "source": [
        "# Q6: Train a Bagging Classifier using SVM as a base estimator and print accuracy\n",
        "\n",
        "from sklearn.svm import SVC\n",
        "from sklearn.ensemble import BaggingClassifier\n",
        "from sklearn.model_selection import train_test_split\n",
        "from sklearn.datasets import load_breast_cancer\n",
        "\n",
        "# Need to load data again if this cell is run independently\n",
        "# Assuming X_train, y_train, X_test, y_test from previous cells are still available.\n",
        "# If not, uncomment and run the following lines:\n",
        "X, y = load_breast_cancer(return_X_y=True)\n",
        "X_train, X_test, y_train, y_test = train_test_split(X, y, test_size=0.3, random_state=42)\n",
        "\n",
        "# Changed base_estimator to estimator\n",
        "bag_svm = BaggingClassifier(estimator=SVC(probability=True), n_estimators=10, random_state=42)\n",
        "bag_svm.fit(X_train, y_train)\n",
        "print(\"Bagging Classifier (SVM) Accuracy:\", bag_svm.score(X_test, y_test))"
      ],
      "metadata": {
        "colab": {
          "base_uri": "https://localhost:8080/"
        },
        "id": "R3iKIeO5dPQZ",
        "outputId": "045c931a-40e4-4123-9bc6-ec4ca7cd275c"
      },
      "execution_count": 15,
      "outputs": [
        {
          "output_type": "stream",
          "name": "stdout",
          "text": [
            "Bagging Classifier (SVM) Accuracy: 0.9473684210526315\n"
          ]
        }
      ]
    },
    {
      "cell_type": "code",
      "source": [
        "# Q7: Train a Random Forest Classifier with different numbers of trees and compare accuracy\n",
        "\n",
        "for n in [10, 50, 100, 200]:\n",
        "    rf_n = RandomForestClassifier(n_estimators=n, random_state=42)\n",
        "    rf_n.fit(X_train, y_train)\n",
        "    acc = rf_n.score(X_test, y_test)\n",
        "    print(f\"Random Forest with {n} trees - Accuracy: {acc}\")\n"
      ],
      "metadata": {
        "id": "nbEoRF7AdPNP",
        "colab": {
          "base_uri": "https://localhost:8080/"
        },
        "outputId": "20a06c0b-524a-40c7-8f58-aafed18b77c5"
      },
      "execution_count": 16,
      "outputs": [
        {
          "output_type": "stream",
          "name": "stdout",
          "text": [
            "Random Forest with 10 trees - Accuracy: 0.9649122807017544\n",
            "Random Forest with 50 trees - Accuracy: 0.9707602339181286\n",
            "Random Forest with 100 trees - Accuracy: 0.9707602339181286\n",
            "Random Forest with 200 trees - Accuracy: 0.9707602339181286\n"
          ]
        }
      ]
    },
    {
      "cell_type": "code",
      "source": [
        "# Q8: Train a Bagging Classifier using Logistic Regression as a base estimator and print AUC score\n",
        "\n",
        "from sklearn.linear_model import LogisticRegression\n",
        "from sklearn.metrics import roc_auc_score\n",
        "from sklearn.ensemble import BaggingClassifier # Explicitly import BaggingClassifier here if this cell is run independently\n",
        "from sklearn.model_selection import train_test_split # Explicitly import if this cell is run independently\n",
        "from sklearn.datasets import load_breast_cancer # Explicitly import if this cell is run independently\n",
        "\n",
        "# Assuming X_train, y_train, X_test, y_test from previous cells are still available.\n",
        "# If not, uncomment and run the following lines:\n",
        "# X, y = load_breast_cancer(return_X_y=True)\n",
        "# X_train, X_test, y_train, y_test = train_test_split(X, y, test_size=0.3, random_state=42)\n",
        "\n",
        "\n",
        "# Changed base_estimator to estimator to match current sklearn API\n",
        "bag_log = BaggingClassifier(estimator=LogisticRegression(max_iter=1000), n_estimators=10, random_state=42)\n",
        "bag_log.fit(X_train, y_train)\n",
        "y_proba = bag_log.predict_proba(X_test)[:, 1]\n",
        "print(\"Bagging Classifier (LogReg) AUC:\", roc_auc_score(y_test, y_proba))"
      ],
      "metadata": {
        "id": "AD_3YsNndPKJ",
        "colab": {
          "base_uri": "https://localhost:8080/"
        },
        "outputId": "1835f0d3-5a9f-4d9b-edb2-4c8533de2d16"
      },
      "execution_count": 20,
      "outputs": [
        {
          "output_type": "stream",
          "name": "stderr",
          "text": [
            "/usr/local/lib/python3.11/dist-packages/sklearn/linear_model/_logistic.py:465: ConvergenceWarning: lbfgs failed to converge (status=1):\n",
            "STOP: TOTAL NO. OF ITERATIONS REACHED LIMIT.\n",
            "\n",
            "Increase the number of iterations (max_iter) or scale the data as shown in:\n",
            "    https://scikit-learn.org/stable/modules/preprocessing.html\n",
            "Please also refer to the documentation for alternative solver options:\n",
            "    https://scikit-learn.org/stable/modules/linear_model.html#logistic-regression\n",
            "  n_iter_i = _check_optimize_result(\n",
            "/usr/local/lib/python3.11/dist-packages/sklearn/linear_model/_logistic.py:465: ConvergenceWarning: lbfgs failed to converge (status=1):\n",
            "STOP: TOTAL NO. OF ITERATIONS REACHED LIMIT.\n",
            "\n",
            "Increase the number of iterations (max_iter) or scale the data as shown in:\n",
            "    https://scikit-learn.org/stable/modules/preprocessing.html\n",
            "Please also refer to the documentation for alternative solver options:\n",
            "    https://scikit-learn.org/stable/modules/linear_model.html#logistic-regression\n",
            "  n_iter_i = _check_optimize_result(\n",
            "/usr/local/lib/python3.11/dist-packages/sklearn/linear_model/_logistic.py:465: ConvergenceWarning: lbfgs failed to converge (status=1):\n",
            "STOP: TOTAL NO. OF ITERATIONS REACHED LIMIT.\n",
            "\n",
            "Increase the number of iterations (max_iter) or scale the data as shown in:\n",
            "    https://scikit-learn.org/stable/modules/preprocessing.html\n",
            "Please also refer to the documentation for alternative solver options:\n",
            "    https://scikit-learn.org/stable/modules/linear_model.html#logistic-regression\n",
            "  n_iter_i = _check_optimize_result(\n",
            "/usr/local/lib/python3.11/dist-packages/sklearn/linear_model/_logistic.py:465: ConvergenceWarning: lbfgs failed to converge (status=1):\n",
            "STOP: TOTAL NO. OF ITERATIONS REACHED LIMIT.\n",
            "\n",
            "Increase the number of iterations (max_iter) or scale the data as shown in:\n",
            "    https://scikit-learn.org/stable/modules/preprocessing.html\n",
            "Please also refer to the documentation for alternative solver options:\n",
            "    https://scikit-learn.org/stable/modules/linear_model.html#logistic-regression\n",
            "  n_iter_i = _check_optimize_result(\n",
            "/usr/local/lib/python3.11/dist-packages/sklearn/linear_model/_logistic.py:465: ConvergenceWarning: lbfgs failed to converge (status=1):\n",
            "STOP: TOTAL NO. OF ITERATIONS REACHED LIMIT.\n",
            "\n",
            "Increase the number of iterations (max_iter) or scale the data as shown in:\n",
            "    https://scikit-learn.org/stable/modules/preprocessing.html\n",
            "Please also refer to the documentation for alternative solver options:\n",
            "    https://scikit-learn.org/stable/modules/linear_model.html#logistic-regression\n",
            "  n_iter_i = _check_optimize_result(\n",
            "/usr/local/lib/python3.11/dist-packages/sklearn/linear_model/_logistic.py:465: ConvergenceWarning: lbfgs failed to converge (status=1):\n",
            "STOP: TOTAL NO. OF ITERATIONS REACHED LIMIT.\n",
            "\n",
            "Increase the number of iterations (max_iter) or scale the data as shown in:\n",
            "    https://scikit-learn.org/stable/modules/preprocessing.html\n",
            "Please also refer to the documentation for alternative solver options:\n",
            "    https://scikit-learn.org/stable/modules/linear_model.html#logistic-regression\n",
            "  n_iter_i = _check_optimize_result(\n",
            "/usr/local/lib/python3.11/dist-packages/sklearn/linear_model/_logistic.py:465: ConvergenceWarning: lbfgs failed to converge (status=1):\n",
            "STOP: TOTAL NO. OF ITERATIONS REACHED LIMIT.\n",
            "\n",
            "Increase the number of iterations (max_iter) or scale the data as shown in:\n",
            "    https://scikit-learn.org/stable/modules/preprocessing.html\n",
            "Please also refer to the documentation for alternative solver options:\n",
            "    https://scikit-learn.org/stable/modules/linear_model.html#logistic-regression\n",
            "  n_iter_i = _check_optimize_result(\n",
            "/usr/local/lib/python3.11/dist-packages/sklearn/linear_model/_logistic.py:465: ConvergenceWarning: lbfgs failed to converge (status=1):\n",
            "STOP: TOTAL NO. OF ITERATIONS REACHED LIMIT.\n",
            "\n",
            "Increase the number of iterations (max_iter) or scale the data as shown in:\n",
            "    https://scikit-learn.org/stable/modules/preprocessing.html\n",
            "Please also refer to the documentation for alternative solver options:\n",
            "    https://scikit-learn.org/stable/modules/linear_model.html#logistic-regression\n",
            "  n_iter_i = _check_optimize_result(\n"
          ]
        },
        {
          "output_type": "stream",
          "name": "stdout",
          "text": [
            "Bagging Classifier (LogReg) AUC: 0.9977954144620812\n"
          ]
        },
        {
          "output_type": "stream",
          "name": "stderr",
          "text": [
            "/usr/local/lib/python3.11/dist-packages/sklearn/linear_model/_logistic.py:465: ConvergenceWarning: lbfgs failed to converge (status=1):\n",
            "STOP: TOTAL NO. OF ITERATIONS REACHED LIMIT.\n",
            "\n",
            "Increase the number of iterations (max_iter) or scale the data as shown in:\n",
            "    https://scikit-learn.org/stable/modules/preprocessing.html\n",
            "Please also refer to the documentation for alternative solver options:\n",
            "    https://scikit-learn.org/stable/modules/linear_model.html#logistic-regression\n",
            "  n_iter_i = _check_optimize_result(\n",
            "/usr/local/lib/python3.11/dist-packages/sklearn/linear_model/_logistic.py:465: ConvergenceWarning: lbfgs failed to converge (status=1):\n",
            "STOP: TOTAL NO. OF ITERATIONS REACHED LIMIT.\n",
            "\n",
            "Increase the number of iterations (max_iter) or scale the data as shown in:\n",
            "    https://scikit-learn.org/stable/modules/preprocessing.html\n",
            "Please also refer to the documentation for alternative solver options:\n",
            "    https://scikit-learn.org/stable/modules/linear_model.html#logistic-regression\n",
            "  n_iter_i = _check_optimize_result(\n"
          ]
        }
      ]
    },
    {
      "cell_type": "code",
      "source": [
        "# Q9: Train a Random Forest Regressor and analyze feature importance scores\n",
        "\n",
        "from sklearn.datasets import load_breast_cancer # Import load_breast_cancer to get feature names\n",
        "\n",
        "# Assuming X_train, y_train are from the Breast Cancer dataset based on previous cells\n",
        "# If not, you would need to load and split the data here as well\n",
        "X, y = load_breast_cancer(return_X_y=True)\n",
        "X_train, X_test, y_train, y_test = train_test_split(X, y, test_size=0.3, random_state=42)\n",
        "\n",
        "\n",
        "# Re-initialize and fit rf_reg with the current data if needed,\n",
        "# or if you want to ensure it's trained on breast cancer for this step\n",
        "# from sklearn.ensemble import RandomForestRegressor\n",
        "# rf_reg = RandomForestRegressor(random_state=42)\n",
        "rf_reg.fit(X_train, y_train)\n",
        "\n",
        "# Use feature names from the Breast Cancer dataset\n",
        "importances = pd.Series(rf_reg.feature_importances_, index=load_breast_cancer().feature_names)\n",
        "print(\"Random Forest Regressor Feature Importances:\\n\", importances.sort_values(ascending=False))"
      ],
      "metadata": {
        "id": "UnLHjiakdPHj",
        "colab": {
          "base_uri": "https://localhost:8080/"
        },
        "outputId": "f061c692-6082-4145-f3d3-d96e1721d537"
      },
      "execution_count": 22,
      "outputs": [
        {
          "output_type": "stream",
          "name": "stdout",
          "text": [
            "Random Forest Regressor Feature Importances:\n",
            " mean concave points        0.387641\n",
            "worst concave points       0.229101\n",
            "worst perimeter            0.121435\n",
            "worst area                 0.058610\n",
            "worst radius               0.041910\n",
            "worst texture              0.029700\n",
            "worst concavity            0.021604\n",
            "mean texture               0.018146\n",
            "area error                 0.015524\n",
            "radius error               0.009379\n",
            "worst smoothness           0.008784\n",
            "fractal dimension error    0.005621\n",
            "worst symmetry             0.004915\n",
            "mean area                  0.004618\n",
            "concavity error            0.004068\n",
            "mean perimeter             0.004037\n",
            "smoothness error           0.004007\n",
            "worst fractal dimension    0.003675\n",
            "symmetry error             0.003513\n",
            "mean fractal dimension     0.003355\n",
            "mean smoothness            0.002928\n",
            "mean concavity             0.002915\n",
            "texture error              0.002507\n",
            "mean symmetry              0.002032\n",
            "concave points error       0.001994\n",
            "perimeter error            0.001989\n",
            "worst compactness          0.001873\n",
            "mean radius                0.001604\n",
            "mean compactness           0.001399\n",
            "compactness error          0.001112\n",
            "dtype: float64\n"
          ]
        }
      ]
    },
    {
      "cell_type": "code",
      "source": [
        "# Q10: Train an ensemble model using both Bagging and Random Forest and compare accuracy\n",
        "\n",
        "from sklearn.tree import DecisionTreeClassifier # Import DecisionTreeClassifier\n",
        "from sklearn.ensemble import BaggingClassifier, RandomForestClassifier # Import both classifiers\n",
        "from sklearn.model_selection import train_test_split # Import train_test_split\n",
        "from sklearn.datasets import load_breast_cancer # Import the dataset\n",
        "\n",
        "\n",
        "# Ensure data is loaded and split if this cell is run independently\n",
        "# Assuming X_train, y_train, X_test, y_test from previous cells are still available.\n",
        "# If not, uncomment and run the following lines:\n",
        "X, y = load_breast_cancer(return_X_y=True)\n",
        "X_train, X_test, y_train, y_test = train_test_split(X, y, test_size=0.3, random_state=42)\n",
        "\n",
        "\n",
        "# Changed base_estimator to estimator\n",
        "bag_model = BaggingClassifier(estimator=DecisionTreeClassifier(), n_estimators=10, random_state=42)\n",
        "rf_model = RandomForestClassifier(n_estimators=100, random_state=42)\n",
        "\n",
        "bag_model.fit(X_train, y_train)\n",
        "rf_model.fit(X_train, y_train)\n",
        "\n",
        "print(\"Bagging Accuracy:\", bag_model.score(X_test, y_test))\n",
        "print(\"Random Forest Accuracy:\", rf_model.score(X_test, y_test))"
      ],
      "metadata": {
        "id": "exnmYt6kdPEv",
        "colab": {
          "base_uri": "https://localhost:8080/"
        },
        "outputId": "dab80d36-c3f0-4bb7-da00-3b0ccdc01b37"
      },
      "execution_count": 24,
      "outputs": [
        {
          "output_type": "stream",
          "name": "stdout",
          "text": [
            "Bagging Accuracy: 0.9473684210526315\n",
            "Random Forest Accuracy: 0.9707602339181286\n"
          ]
        }
      ]
    },
    {
      "cell_type": "code",
      "source": [
        "# Q11: Train a Random Forest Classifier and tune hyperparameters using GridSearchCV\n",
        "\n",
        "from sklearn.model_selection import GridSearchCV\n",
        "\n",
        "param_grid = {\n",
        "    'n_estimators': [50, 100],\n",
        "    'max_depth': [None, 5, 10]\n",
        "}\n",
        "grid_rf = GridSearchCV(RandomForestClassifier(random_state=42), param_grid, cv=3)\n",
        "grid_rf.fit(X_train, y_train)\n",
        "print(\"Best Params:\", grid_rf.best_params_)\n",
        "print(\"Best Accuracy:\", grid_rf.best_score_)\n",
        "\n"
      ],
      "metadata": {
        "id": "I1LPv_RJdPCA",
        "colab": {
          "base_uri": "https://localhost:8080/"
        },
        "outputId": "2ac81403-20e3-41e6-8e84-57d30c90300e"
      },
      "execution_count": 25,
      "outputs": [
        {
          "output_type": "stream",
          "name": "stdout",
          "text": [
            "Best Params: {'max_depth': None, 'n_estimators': 50}\n",
            "Best Accuracy: 0.9622920938710413\n"
          ]
        }
      ]
    },
    {
      "cell_type": "code",
      "source": [
        "# Q12: Train a Bagging Regressor with different numbers of base estimators and compare performance\n",
        "\n",
        "from sklearn.ensemble import BaggingRegressor\n",
        "from sklearn.tree import DecisionTreeRegressor\n",
        "from sklearn.metrics import mean_squared_error\n",
        "\n",
        "# Assuming X_train, y_train, X_test, y_test from previous cells are still available.\n",
        "# If not, you would need to load and split the data here as well\n",
        "\n",
        "for n in [5, 10, 20, 50]:\n",
        "    # Changed base_estimator to estimator to match current sklearn API\n",
        "    bag_reg_n = BaggingRegressor(estimator=DecisionTreeRegressor(), n_estimators=n, random_state=42)\n",
        "    bag_reg_n.fit(X_train, y_train)\n",
        "    mse = mean_squared_error(y_test, bag_reg_n.predict(X_test))\n",
        "    print(f\"Bagging Regressor with {n} estimators - MSE: {mse}\")"
      ],
      "metadata": {
        "id": "_7SOcBC6dO_T",
        "colab": {
          "base_uri": "https://localhost:8080/"
        },
        "outputId": "973669ce-8768-437b-f9f4-d0d3052c8725"
      },
      "execution_count": 28,
      "outputs": [
        {
          "output_type": "stream",
          "name": "stdout",
          "text": [
            "Bagging Regressor with 5 estimators - MSE: 0.04421052631578948\n",
            "Bagging Regressor with 10 estimators - MSE: 0.03923976608187135\n",
            "Bagging Regressor with 20 estimators - MSE: 0.03698830409356725\n",
            "Bagging Regressor with 50 estimators - MSE: 0.03394152046783626\n"
          ]
        }
      ]
    },
    {
      "cell_type": "code",
      "source": [
        "# Q13: Train a Random Forest Classifier and analyze misclassified samples\n",
        "\n",
        "rf.fit(X_train, y_train)\n",
        "y_pred = rf.predict(X_test)\n",
        "misclassified = X_test[y_test != y_pred]\n",
        "print(\"Number of Misclassified Samples:\", len(misclassified))\n"
      ],
      "metadata": {
        "id": "S4QIZfs5dO8i",
        "colab": {
          "base_uri": "https://localhost:8080/"
        },
        "outputId": "3aa076b1-8415-4ce4-8649-82a847a2f099"
      },
      "execution_count": 29,
      "outputs": [
        {
          "output_type": "stream",
          "name": "stdout",
          "text": [
            "Number of Misclassified Samples: 5\n"
          ]
        }
      ]
    },
    {
      "cell_type": "code",
      "source": [
        "# Q14: Train a Bagging Classifier and compare its performance with a single Decision Tree Classifier\n",
        "\n",
        "from sklearn.tree import DecisionTreeClassifier # Ensure DecisionTreeClassifier is imported\n",
        "from sklearn.ensemble import BaggingClassifier # Ensure BaggingClassifier is imported\n",
        "from sklearn.model_selection import train_test_split # Ensure train_test_split is imported\n",
        "from sklearn.datasets import load_breast_cancer # Ensure data is loaded if not already available\n",
        "\n",
        "# Assuming X_train, y_train, X_test, y_test from previous cells are still available.\n",
        "# If not, uncomment and run the following lines:\n",
        "# X, y = load_breast_cancer(return_X_y=True)\n",
        "# X_train, X_test, y_train, y_test = train_test_split(X, y, test_size=0.3, random_state=42)\n",
        "\n",
        "\n",
        "tree_clf = DecisionTreeClassifier(random_state=42)\n",
        "tree_clf.fit(X_train, y_train)\n",
        "\n",
        "# Changed base_estimator to estimator\n",
        "bag_clf = BaggingClassifier(estimator=DecisionTreeClassifier(), n_estimators=10, random_state=42)\n",
        "bag_clf.fit(X_train, y_train)\n",
        "\n",
        "print(\"Single Decision Tree Accuracy:\", tree_clf.score(X_test, y_test))\n",
        "print(\"Bagging Classifier Accuracy:\", bag_clf.score(X_test, y_test))"
      ],
      "metadata": {
        "id": "bo4-oUuzdO5n",
        "colab": {
          "base_uri": "https://localhost:8080/"
        },
        "outputId": "75cfce72-9698-4958-8cd5-e9feb616c1bb"
      },
      "execution_count": 31,
      "outputs": [
        {
          "output_type": "stream",
          "name": "stdout",
          "text": [
            "Single Decision Tree Accuracy: 0.9415204678362573\n",
            "Bagging Classifier Accuracy: 0.9473684210526315\n"
          ]
        }
      ]
    },
    {
      "cell_type": "code",
      "source": [
        "# Q15: Train a Random Forest Classifier and visualize the confusion matrix\n",
        "\n",
        "from sklearn.metrics import ConfusionMatrixDisplay\n",
        "import matplotlib.pyplot as plt # Import matplotlib.pyplot\n",
        "\n",
        "rf.fit(X_train, y_train)\n",
        "ConfusionMatrixDisplay.from_estimator(rf, X_test, y_test)\n",
        "plt.title(\"Random Forest Confusion Matrix\")\n",
        "plt.show()"
      ],
      "metadata": {
        "id": "Lrao3EFmdO2-",
        "colab": {
          "base_uri": "https://localhost:8080/",
          "height": 472
        },
        "outputId": "94ba7e96-44cb-400b-c562-07e0b59d09b1"
      },
      "execution_count": 33,
      "outputs": [
        {
          "output_type": "display_data",
          "data": {
            "text/plain": [
              "<Figure size 640x480 with 2 Axes>"
            ],
            "image/png": "[encoded data removed]"
          },
          "metadata": {}
        }
      ]
    },
    {
      "cell_type": "code",
      "source": [
        "# Q16: Train a Stacking Classifier using Decision Trees, SVM, and Logistic Regression, and compare accuracy\n",
        "\n",
        "from sklearn.tree import DecisionTreeClassifier\n",
        "from sklearn.svm import SVC\n",
        "from sklearn.linear_model import LogisticRegression\n",
        "from sklearn.ensemble import StackingClassifier\n",
        "from sklearn.model_selection import train_test_split\n",
        "from sklearn.datasets import load_breast_cancer\n",
        "\n",
        "# Ensure data is loaded and split if this cell is run independently\n",
        "# Assuming X_train, y_train, X_test, y_test from previous cells are still available.\n",
        "# If not, uncomment and run the following lines:\n",
        "X, y = load_breast_cancer(return_X_y=True)\n",
        "X_train, X_test, y_train, y_test = train_test_split(X, y, test_size=0.3, random_state=42)\n",
        "\n",
        "\n",
        "estimators = [\n",
        "    ('dt', DecisionTreeClassifier()),\n",
        "    ('svm', SVC(probability=True)),\n",
        "    ('lr', LogisticRegression(max_iter=1000))\n",
        "]\n",
        "\n",
        "stack_clf = StackingClassifier(estimators=estimators, final_estimator=LogisticRegression(), cv=5)\n",
        "stack_clf.fit(X_train, y_train)\n",
        "print(\"Stacking Classifier Accuracy:\", stack_clf.score(X_test, y_test))"
      ],
      "metadata": {
        "id": "G2tEr3_adO0F",
        "colab": {
          "base_uri": "https://localhost:8080/"
        },
        "outputId": "70100f13-6459-444b-8c63-56ca53cc4429"
      },
      "execution_count": 35,
      "outputs": [
        {
          "output_type": "stream",
          "name": "stderr",
          "text": [
            "/usr/local/lib/python3.11/dist-packages/sklearn/linear_model/_logistic.py:465: ConvergenceWarning: lbfgs failed to converge (status=1):\n",
            "STOP: TOTAL NO. OF ITERATIONS REACHED LIMIT.\n",
            "\n",
            "Increase the number of iterations (max_iter) or scale the data as shown in:\n",
            "    https://scikit-learn.org/stable/modules/preprocessing.html\n",
            "Please also refer to the documentation for alternative solver options:\n",
            "    https://scikit-learn.org/stable/modules/linear_model.html#logistic-regression\n",
            "  n_iter_i = _check_optimize_result(\n",
            "/usr/local/lib/python3.11/dist-packages/sklearn/linear_model/_logistic.py:465: ConvergenceWarning: lbfgs failed to converge (status=1):\n",
            "STOP: TOTAL NO. OF ITERATIONS REACHED LIMIT.\n",
            "\n",
            "Increase the number of iterations (max_iter) or scale the data as shown in:\n",
            "    https://scikit-learn.org/stable/modules/preprocessing.html\n",
            "Please also refer to the documentation for alternative solver options:\n",
            "    https://scikit-learn.org/stable/modules/linear_model.html#logistic-regression\n",
            "  n_iter_i = _check_optimize_result(\n",
            "/usr/local/lib/python3.11/dist-packages/sklearn/linear_model/_logistic.py:465: ConvergenceWarning: lbfgs failed to converge (status=1):\n",
            "STOP: TOTAL NO. OF ITERATIONS REACHED LIMIT.\n",
            "\n",
            "Increase the number of iterations (max_iter) or scale the data as shown in:\n",
            "    https://scikit-learn.org/stable/modules/preprocessing.html\n",
            "Please also refer to the documentation for alternative solver options:\n",
            "    https://scikit-learn.org/stable/modules/linear_model.html#logistic-regression\n",
            "  n_iter_i = _check_optimize_result(\n",
            "/usr/local/lib/python3.11/dist-packages/sklearn/linear_model/_logistic.py:465: ConvergenceWarning: lbfgs failed to converge (status=1):\n",
            "STOP: TOTAL NO. OF ITERATIONS REACHED LIMIT.\n",
            "\n",
            "Increase the number of iterations (max_iter) or scale the data as shown in:\n",
            "    https://scikit-learn.org/stable/modules/preprocessing.html\n",
            "Please also refer to the documentation for alternative solver options:\n",
            "    https://scikit-learn.org/stable/modules/linear_model.html#logistic-regression\n",
            "  n_iter_i = _check_optimize_result(\n",
            "/usr/local/lib/python3.11/dist-packages/sklearn/linear_model/_logistic.py:465: ConvergenceWarning: lbfgs failed to converge (status=1):\n",
            "STOP: TOTAL NO. OF ITERATIONS REACHED LIMIT.\n",
            "\n",
            "Increase the number of iterations (max_iter) or scale the data as shown in:\n",
            "    https://scikit-learn.org/stable/modules/preprocessing.html\n",
            "Please also refer to the documentation for alternative solver options:\n",
            "    https://scikit-learn.org/stable/modules/linear_model.html#logistic-regression\n",
            "  n_iter_i = _check_optimize_result(\n"
          ]
        },
        {
          "output_type": "stream",
          "name": "stdout",
          "text": [
            "Stacking Classifier Accuracy: 0.9707602339181286\n"
          ]
        },
        {
          "output_type": "stream",
          "name": "stderr",
          "text": [
            "/usr/local/lib/python3.11/dist-packages/sklearn/linear_model/_logistic.py:465: ConvergenceWarning: lbfgs failed to converge (status=1):\n",
            "STOP: TOTAL NO. OF ITERATIONS REACHED LIMIT.\n",
            "\n",
            "Increase the number of iterations (max_iter) or scale the data as shown in:\n",
            "    https://scikit-learn.org/stable/modules/preprocessing.html\n",
            "Please also refer to the documentation for alternative solver options:\n",
            "    https://scikit-learn.org/stable/modules/linear_model.html#logistic-regression\n",
            "  n_iter_i = _check_optimize_result(\n"
          ]
        }
      ]
    },
    {
      "cell_type": "code",
      "source": [
        "# Q17: Train a Random Forest Classifier and print the top 5 most important features\n",
        "\n",
        "rf.fit(X_train, y_train)\n",
        "importances = pd.Series(rf.feature_importances_, index=load_breast_cancer().feature_names)\n",
        "print(\"Top 5 Features:\\n\", importances.sort_values(ascending=False).head(5))\n"
      ],
      "metadata": {
        "id": "WQDzV65_dOxb",
        "colab": {
          "base_uri": "https://localhost:8080/"
        },
        "outputId": "4aa2118c-5f55-4c8d-a4b5-79095ec24b97"
      },
      "execution_count": 36,
      "outputs": [
        {
          "output_type": "stream",
          "name": "stdout",
          "text": [
            "Top 5 Features:\n",
            " mean concave points     0.141934\n",
            "worst concave points    0.127136\n",
            "worst area              0.118217\n",
            "mean concavity          0.080557\n",
            "worst radius            0.077975\n",
            "dtype: float64\n"
          ]
        }
      ]
    },
    {
      "cell_type": "code",
      "source": [
        "# Q18: Train a Bagging Classifier and evaluate performance using Precision, Recall, and F1-score\n",
        "\n",
        "from sklearn.metrics import precision_score, recall_score, f1_score\n",
        "\n",
        "bag_clf.fit(X_train, y_train)\n",
        "y_pred = bag_clf.predict(X_test)\n",
        "print(\"Precision:\", precision_score(y_test, y_pred))\n",
        "print(\"Recall:\", recall_score(y_test, y_pred))\n",
        "print(\"F1 Score:\", f1_score(y_test, y_pred))\n"
      ],
      "metadata": {
        "id": "JOgMcJ9OdOt-",
        "colab": {
          "base_uri": "https://localhost:8080/"
        },
        "outputId": "d34dc4b4-537c-4bfb-e1cc-8820a9fe5d58"
      },
      "execution_count": 37,
      "outputs": [
        {
          "output_type": "stream",
          "name": "stdout",
          "text": [
            "Precision: 0.9626168224299065\n",
            "Recall: 0.9537037037037037\n",
            "F1 Score: 0.958139534883721\n"
          ]
        }
      ]
    },
    {
      "cell_type": "code",
      "source": [
        "# Q19: Train a Random Forest Classifier and analyze the effect of max_depth on accuracy\n",
        "\n",
        "for depth in [None, 3, 5, 10]:\n",
        "    rf_depth = RandomForestClassifier(max_depth=depth, random_state=42)\n",
        "    rf_depth.fit(X_train, y_train)\n",
        "    acc = rf_depth.score(X_test, y_test)\n",
        "    print(f\"max_depth={depth} -> Accuracy: {acc}\")\n"
      ],
      "metadata": {
        "colab": {
          "base_uri": "https://localhost:8080/"
        },
        "id": "5621sWfRlu4K",
        "outputId": "554aa76e-835d-4896-d990-44890337bf7b"
      },
      "execution_count": 46,
      "outputs": [
        {
          "output_type": "stream",
          "name": "stdout",
          "text": [
            "max_depth=None -> Accuracy: 0.9707602339181286\n",
            "max_depth=3 -> Accuracy: 0.9707602339181286\n",
            "max_depth=5 -> Accuracy: 0.9649122807017544\n",
            "max_depth=10 -> Accuracy: 0.9707602339181286\n"
          ]
        }
      ]
    },
    {
      "cell_type": "code",
      "source": [
        "# Q20: Train a Bagging Regressor using different base estimators (DecisionTree and KNeighbors) and compare performance\n",
        "\n",
        "from sklearn.neighbors import KNeighborsRegressor\n",
        "from sklearn.tree import DecisionTreeRegressor # Import DecisionTreeRegressor\n",
        "from sklearn.ensemble import BaggingRegressor # Import BaggingRegressor\n",
        "from sklearn.metrics import mean_squared_error # Import mean_squared_error\n",
        "from sklearn.model_selection import train_test_split # Import train_test_split\n",
        "from sklearn.datasets import load_breast_cancer # Import load_breast_cancer\n",
        "\n",
        "# Assuming X_train, y_train, X_test, y_test from previous cells are still available.\n",
        "# If not, uncomment and run the following lines:\n",
        "# X, y = load_breast_cancer(return_X_y=True)\n",
        "# X_train, X_test, y_train, y_test = train_test_split(X, y, test_size=0.3, random_state=42)\n",
        "\n",
        "\n",
        "for model in [DecisionTreeRegressor(), KNeighborsRegressor()]:\n",
        "    # Changed base_estimator to estimator to match current sklearn API\n",
        "    bag = BaggingRegressor(estimator=model, n_estimators=10, random_state=42)\n",
        "    bag.fit(X_train, y_train)\n",
        "    mse = mean_squared_error(y_test, bag.predict(X_test))\n",
        "    print(f\"Base: {type(model).__name__}, MSE: {mse}\")"
      ],
      "metadata": {
        "id": "OEzlB3CadOn_",
        "colab": {
          "base_uri": "https://localhost:8080/"
        },
        "outputId": "119ebd41-2823-4927-9083-8a811630e893"
      },
      "execution_count": 39,
      "outputs": [
        {
          "output_type": "stream",
          "name": "stdout",
          "text": [
            "Base: DecisionTreeRegressor, MSE: 0.03923976608187135\n",
            "Base: KNeighborsRegressor, MSE: 0.028180116959064336\n"
          ]
        }
      ]
    },
    {
      "cell_type": "code",
      "source": [
        "# Q21: Train a Random Forest Classifier and evaluate its performance using ROC-AUC Score\n",
        "\n",
        "y_proba = rf.predict_proba(X_test)[:, 1]\n",
        "print(\"ROC-AUC Score:\", roc_auc_score(y_test, y_proba))\n"
      ],
      "metadata": {
        "id": "gaMIcetcdOll",
        "colab": {
          "base_uri": "https://localhost:8080/"
        },
        "outputId": "c6eebf8a-2d8c-4c9e-fd5d-193d29dacb99"
      },
      "execution_count": 40,
      "outputs": [
        {
          "output_type": "stream",
          "name": "stdout",
          "text": [
            "ROC-AUC Score: 0.9968400940623163\n"
          ]
        }
      ]
    },
    {
      "cell_type": "code",
      "source": [
        "# Q22: Train a Bagging Classifier and evaluate its performance using cross-validation\n",
        "\n",
        "from sklearn.model_selection import cross_val_score\n",
        "\n",
        "scores = cross_val_score(bag_clf, X, y, cv=5, scoring='accuracy')\n",
        "print(\"Cross-Validation Accuracy Scores:\", scores)\n",
        "print(\"Mean CV Accuracy:\", scores.mean())\n"
      ],
      "metadata": {
        "id": "1fjpUIYndOiw",
        "colab": {
          "base_uri": "https://localhost:8080/"
        },
        "outputId": "4b0de0b3-77cf-4091-eef1-f585f053277e"
      },
      "execution_count": 41,
      "outputs": [
        {
          "output_type": "stream",
          "name": "stdout",
          "text": [
            "Cross-Validation Accuracy Scores: [0.92982456 0.93859649 0.97368421 0.93859649 0.97345133]\n",
            "Mean CV Accuracy: 0.9508306163639186\n"
          ]
        }
      ]
    },
    {
      "cell_type": "code",
      "source": [
        "# Q23: Train a Random Forest Classifier and plot the Precision-Recall curve\n",
        "\n",
        "from sklearn.metrics import precision_recall_curve, PrecisionRecallDisplay\n",
        "\n",
        "y_proba = rf.predict_proba(X_test)[:, 1]\n",
        "precision, recall, _ = precision_recall_curve(y_test, y_proba)\n",
        "disp = PrecisionRecallDisplay(precision=precision, recall=recall)\n",
        "disp.plot()\n",
        "plt.title(\"Precision-Recall Curve (Random Forest)\")\n",
        "plt.show()\n"
      ],
      "metadata": {
        "id": "xnr-_1oedOgR",
        "colab": {
          "base_uri": "https://localhost:8080/",
          "height": 472
        },
        "outputId": "f765e13a-8331-4789-9530-581cf79a7895"
      },
      "execution_count": 42,
      "outputs": [
        {
          "output_type": "display_data",
          "data": {
            "text/plain": [
              "<Figure size 640x480 with 1 Axes>"
            ],
            "image/png": "[encoded data removed]"
          },
          "metadata": {}
        }
      ]
    },
    {
      "cell_type": "code",
      "source": [
        "# Q24: Train a Stacking Classifier with Random Forest and Logistic Regression and compare accuracy\n",
        "\n",
        "estimators = [\n",
        "    ('rf', RandomForestClassifier(n_estimators=50, random_state=42)),\n",
        "    ('lr', LogisticRegression(max_iter=1000))\n",
        "]\n",
        "\n",
        "stack_model = StackingClassifier(estimators=estimators, final_estimator=LogisticRegression(), cv=5)\n",
        "stack_model.fit(X_train, y_train)\n",
        "print(\"Stacking Classifier (RF + LR) Accuracy:\", stack_model.score(X_test, y_test))\n"
      ],
      "metadata": {
        "id": "ZzONCRfDdOdo",
        "colab": {
          "base_uri": "https://localhost:8080/"
        },
        "outputId": "59221c31-c430-4ece-88a9-7984592ac632"
      },
      "execution_count": 43,
      "outputs": [
        {
          "output_type": "stream",
          "name": "stderr",
          "text": [
            "/usr/local/lib/python3.11/dist-packages/sklearn/linear_model/_logistic.py:465: ConvergenceWarning: lbfgs failed to converge (status=1):\n",
            "STOP: TOTAL NO. OF ITERATIONS REACHED LIMIT.\n",
            "\n",
            "Increase the number of iterations (max_iter) or scale the data as shown in:\n",
            "    https://scikit-learn.org/stable/modules/preprocessing.html\n",
            "Please also refer to the documentation for alternative solver options:\n",
            "    https://scikit-learn.org/stable/modules/linear_model.html#logistic-regression\n",
            "  n_iter_i = _check_optimize_result(\n",
            "/usr/local/lib/python3.11/dist-packages/sklearn/linear_model/_logistic.py:465: ConvergenceWarning: lbfgs failed to converge (status=1):\n",
            "STOP: TOTAL NO. OF ITERATIONS REACHED LIMIT.\n",
            "\n",
            "Increase the number of iterations (max_iter) or scale the data as shown in:\n",
            "    https://scikit-learn.org/stable/modules/preprocessing.html\n",
            "Please also refer to the documentation for alternative solver options:\n",
            "    https://scikit-learn.org/stable/modules/linear_model.html#logistic-regression\n",
            "  n_iter_i = _check_optimize_result(\n",
            "/usr/local/lib/python3.11/dist-packages/sklearn/linear_model/_logistic.py:465: ConvergenceWarning: lbfgs failed to converge (status=1):\n",
            "STOP: TOTAL NO. OF ITERATIONS REACHED LIMIT.\n",
            "\n",
            "Increase the number of iterations (max_iter) or scale the data as shown in:\n",
            "    https://scikit-learn.org/stable/modules/preprocessing.html\n",
            "Please also refer to the documentation for alternative solver options:\n",
            "    https://scikit-learn.org/stable/modules/linear_model.html#logistic-regression\n",
            "  n_iter_i = _check_optimize_result(\n",
            "/usr/local/lib/python3.11/dist-packages/sklearn/linear_model/_logistic.py:465: ConvergenceWarning: lbfgs failed to converge (status=1):\n",
            "STOP: TOTAL NO. OF ITERATIONS REACHED LIMIT.\n",
            "\n",
            "Increase the number of iterations (max_iter) or scale the data as shown in:\n",
            "    https://scikit-learn.org/stable/modules/preprocessing.html\n",
            "Please also refer to the documentation for alternative solver options:\n",
            "    https://scikit-learn.org/stable/modules/linear_model.html#logistic-regression\n",
            "  n_iter_i = _check_optimize_result(\n",
            "/usr/local/lib/python3.11/dist-packages/sklearn/linear_model/_logistic.py:465: ConvergenceWarning: lbfgs failed to converge (status=1):\n",
            "STOP: TOTAL NO. OF ITERATIONS REACHED LIMIT.\n",
            "\n",
            "Increase the number of iterations (max_iter) or scale the data as shown in:\n",
            "    https://scikit-learn.org/stable/modules/preprocessing.html\n",
            "Please also refer to the documentation for alternative solver options:\n",
            "    https://scikit-learn.org/stable/modules/linear_model.html#logistic-regression\n",
            "  n_iter_i = _check_optimize_result(\n"
          ]
        },
        {
          "output_type": "stream",
          "name": "stdout",
          "text": [
            "Stacking Classifier (RF + LR) Accuracy: 0.9707602339181286\n"
          ]
        },
        {
          "output_type": "stream",
          "name": "stderr",
          "text": [
            "/usr/local/lib/python3.11/dist-packages/sklearn/linear_model/_logistic.py:465: ConvergenceWarning: lbfgs failed to converge (status=1):\n",
            "STOP: TOTAL NO. OF ITERATIONS REACHED LIMIT.\n",
            "\n",
            "Increase the number of iterations (max_iter) or scale the data as shown in:\n",
            "    https://scikit-learn.org/stable/modules/preprocessing.html\n",
            "Please also refer to the documentation for alternative solver options:\n",
            "    https://scikit-learn.org/stable/modules/linear_model.html#logistic-regression\n",
            "  n_iter_i = _check_optimize_result(\n"
          ]
        }
      ]
    },
    {
      "cell_type": "code",
      "source": [
        "# Q25: Train a Bagging Regressor with different levels of bootstrap samples and compare performance\n",
        "\n",
        "from sklearn.neighbors import KNeighborsRegressor\n",
        "from sklearn.tree import DecisionTreeRegressor # Import DecisionTreeRegressor\n",
        "from sklearn.ensemble import BaggingRegressor # Import BaggingRegressor\n",
        "from sklearn.metrics import mean_squared_error # Import mean_squared_error\n",
        "from sklearn.model_selection import train_test_split # Import train_test_split\n",
        "from sklearn.datasets import load_breast_cancer # Import load_breast_cancer\n",
        "\n",
        "# Assuming X_train, y_train, X_test, y_test from previous cells are still available.\n",
        "# If not, uncomment and run the following lines:\n",
        "# X, y = load_breast_cancer(return_X_y=True)\n",
        "# X_train, X_test, y_train, y_test = train_test_split(X, y, test_size=0.3, random_state=42)\n",
        "\n",
        "\n",
        "for bootstrap in [True, False]:\n",
        "    # Changed base_estimator to estimator to match current sklearn API\n",
        "    bag = BaggingRegressor(estimator=DecisionTreeRegressor(), n_estimators=10,\n",
        "                           bootstrap=bootstrap, random_state=42)\n",
        "    bag.fit(X_train, y_train)\n",
        "    mse = mean_squared_error(y_test, bag.predict(X_test))\n",
        "    print(f\"Bootstrap={bootstrap} -> MSE: {mse}\")"
      ],
      "metadata": {
        "id": "cXrr7nvSdOXf",
        "colab": {
          "base_uri": "https://localhost:8080/"
        },
        "outputId": "b5201d09-ef58-4171-b9f4-841bbd893153"
      },
      "execution_count": 45,
      "outputs": [
        {
          "output_type": "stream",
          "name": "stdout",
          "text": [
            "Bootstrap=True -> MSE: 0.03923976608187135\n",
            "Bootstrap=False -> MSE: 0.06245614035087719\n"
          ]
        }
      ]
    }
  ]
}